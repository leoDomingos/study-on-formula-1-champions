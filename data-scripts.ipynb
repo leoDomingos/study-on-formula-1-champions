{
 "cells": [
  {
   "cell_type": "markdown",
   "metadata": {},
   "source": [
    "In this notebook, we perform the all required API calls to get the data and store it in our `data` folder. Explanations about each folder can be found in ./data/readme.txt\n",
    "\n",
    "Note that the loops have timers on them. This is necessary, because the ergast API only allows a certain amount of API calls before temporarily restricting access to it."
   ]
  },
  {
   "cell_type": "code",
   "execution_count": 1,
   "metadata": {},
   "outputs": [],
   "source": [
    "# Necessary import\n",
    "import requests\n",
    "import json\n",
    "import time"
   ]
  },
  {
   "cell_type": "markdown",
   "metadata": {},
   "source": [
    "The code to access the API and save the data received to a json file is:"
   ]
  },
  {
   "cell_type": "code",
   "execution_count": 27,
   "metadata": {},
   "outputs": [],
   "source": [
    "constructors_request = requests.get(\"http://ergast.com/api/f1/constructorStandings/1/constructors.json\")\n",
    "json_constructors_data = constructors_request.json()\n",
    "with open(\"./data/constructors-1.json\", \"w\", encoding=\"utf-8\") as constructors_file:\n",
    "    json.dump(json_constructors_data, constructors_file, ensure_ascii=False, indent=4)"
   ]
  },
  {
   "cell_type": "markdown",
   "metadata": {},
   "source": [
    "And then to access it, we also use the json module:"
   ]
  },
  {
   "cell_type": "code",
   "execution_count": 28,
   "metadata": {},
   "outputs": [
    {
     "name": "stdout",
     "output_type": "stream",
     "text": [
      "{'MRData': {'xmlns': 'http://ergast.com/mrd/1.5', 'series': 'f1', 'url': 'http://ergast.com/api/f1/constructorstandings/1/constructors.json', 'limit': '30', 'offset': '0', 'total': '17', 'ConstructorTable': {'constructorStandings': '1', 'Constructors': [{'constructorId': 'benetton', 'url': 'http://en.wikipedia.org/wiki/Benetton_Formula', 'name': 'Benetton', 'nationality': 'Italian'}, {'constructorId': 'brabham-repco', 'url': 'http://en.wikipedia.org/wiki/Brabham', 'name': 'Brabham-Repco', 'nationality': 'British'}, {'constructorId': 'brawn', 'url': 'http://en.wikipedia.org/wiki/Brawn_GP', 'name': 'Brawn', 'nationality': 'British'}, {'constructorId': 'brm', 'url': 'http://en.wikipedia.org/wiki/BRM', 'name': 'BRM', 'nationality': 'British'}, {'constructorId': 'cooper-climax', 'url': 'http://en.wikipedia.org/wiki/Cooper_Car_Company', 'name': 'Cooper-Climax', 'nationality': 'British'}, {'constructorId': 'ferrari', 'url': 'http://en.wikipedia.org/wiki/Scuderia_Ferrari', 'name': 'Ferrari', 'nationality': 'Italian'}, {'constructorId': 'lotus-climax', 'url': 'http://en.wikipedia.org/wiki/Team_Lotus', 'name': 'Lotus-Climax', 'nationality': 'British'}, {'constructorId': 'lotus-ford', 'url': 'http://en.wikipedia.org/wiki/Team_Lotus', 'name': 'Lotus-Ford', 'nationality': 'British'}, {'constructorId': 'matra-ford', 'url': 'http://en.wikipedia.org/wiki/Matra', 'name': 'Matra-Ford', 'nationality': 'French'}, {'constructorId': 'mclaren', 'url': 'http://en.wikipedia.org/wiki/McLaren', 'name': 'McLaren', 'nationality': 'British'}, {'constructorId': 'mercedes', 'url': 'http://en.wikipedia.org/wiki/Mercedes-Benz_in_Formula_One', 'name': 'Mercedes', 'nationality': 'German'}, {'constructorId': 'red_bull', 'url': 'http://en.wikipedia.org/wiki/Red_Bull_Racing', 'name': 'Red Bull', 'nationality': 'Austrian'}, {'constructorId': 'renault', 'url': 'http://en.wikipedia.org/wiki/Renault_in_Formula_One', 'name': 'Renault', 'nationality': 'French'}, {'constructorId': 'team_lotus', 'url': 'http://en.wikipedia.org/wiki/Team_Lotus', 'name': 'Team Lotus', 'nationality': 'British'}, {'constructorId': 'tyrrell', 'url': 'http://en.wikipedia.org/wiki/Tyrrell_Racing', 'name': 'Tyrrell', 'nationality': 'British'}, {'constructorId': 'vanwall', 'url': 'http://en.wikipedia.org/wiki/Vanwall', 'name': 'Vanwall', 'nationality': 'British'}, {'constructorId': 'williams', 'url': 'http://en.wikipedia.org/wiki/Williams_Grand_Prix_Engineering', 'name': 'Williams', 'nationality': 'British'}]}}}\n"
     ]
    },
    {
     "data": {
      "text/plain": [
       "<function TextIOWrapper.close()>"
      ]
     },
     "execution_count": 28,
     "metadata": {},
     "output_type": "execute_result"
    }
   ],
   "source": [
    "file = open(\"./data/constructors-1.json\")\n",
    "constructors_data = json.load(file)\n",
    "print(constructors_data)\n",
    "file.close"
   ]
  },
  {
   "cell_type": "markdown",
   "metadata": {},
   "source": [
    "Now, let's do the same for the rest of the necessary files."
   ]
  },
  {
   "cell_type": "code",
   "execution_count": 29,
   "metadata": {},
   "outputs": [],
   "source": [
    "# All seasons\n",
    "seasons_request = requests.get(url=\"http://ergast.com/api/f1/seasons.json?limit=73&offset=0\")\n",
    "json_seasons_data = seasons_request.json()\n",
    "with open(\"./data/seasons.json\", \"w\", encoding=\"utf-8\") as seasons_file:\n",
    "    json.dump(json_seasons_data, seasons_file, ensure_ascii=False, indent=4)"
   ]
  },
  {
   "cell_type": "code",
   "execution_count": 30,
   "metadata": {},
   "outputs": [],
   "source": [
    "# 2008 season\n",
    "request_2008 = requests.get(url=\"http://ergast.com/api/f1/2008/results/1.json\")\n",
    "json_data_2008 = request_2008.json()\n",
    "with open(\"./data/2008-season.json\", \"w\", encoding=\"utf-8\") as file_2008:\n",
    "    json.dump(json_data_2008, file_2008, ensure_ascii=False, indent=4)"
   ]
  },
  {
   "cell_type": "code",
   "execution_count": 31,
   "metadata": {},
   "outputs": [],
   "source": [
    "# All season results\n",
    "for year in range(1950, 2023):\n",
    "    results_response = requests.get(url=f\"http://ergast.com/api/f1/{year}/results/1.json\")\n",
    "    json_results_data = results_response.json()\n",
    "    with open(f\"./data/all-seasons-results/{year}.json\", \"w\", encoding=\"utf-8\") as results_file:\n",
    "        json.dump(json_results_data, results_file, ensure_ascii=False, indent=4)\n",
    "    time.sleep(1)"
   ]
  },
  {
   "cell_type": "code",
   "execution_count": 32,
   "metadata": {},
   "outputs": [],
   "source": [
    "# All drivers and teams standings\n",
    "for year in range(1958, 2022):\n",
    "    drivers_response = requests.get(url=f\"http://ergast.com/api/f1/{year}/driverStandings.json\")\n",
    "    teams_response = requests.get(url=f\"http://ergast.com/api/f1/{year}/constructorStandings.json\")\n",
    "    json_drivers_data = drivers_response.json()\n",
    "    json_teams_data = teams_response.json()\n",
    "    with open(f\"./data/all-seasons-driverstandings/{year}.json\", \"w\", encoding=\"utf-8\") as drivers_file:\n",
    "        json.dump(json_drivers_data, drivers_file, ensure_ascii=False, indent=4)\n",
    "    with open(f\"./data/all-seasons-constructorstandings/{year}.json\", \"w\", encoding=\"utf-8\") as teams_file:\n",
    "        json.dump(json_teams_data, teams_file, ensure_ascii=False, indent=4)\n",
    "    time.sleep(1)"
   ]
  },
  {
   "cell_type": "code",
   "execution_count": 33,
   "metadata": {},
   "outputs": [],
   "source": [
    "# Only the first race of every season\n",
    "for year in range(1950, 2023):\n",
    "    # We now need the 1 after the year to specify which race we want\n",
    "    first_race_response = requests.get(url=f\"http://ergast.com/api/f1/{year}/1/results.json\")\n",
    "    first_races_data = first_race_response.json()\n",
    "    with open(f\"./data/all-seasons-first-races/{year}.json\", \"w\", encoding=\"utf-8\") as first_race_file:\n",
    "        json.dump(first_races_data, first_race_file, ensure_ascii=False, indent=4)\n",
    "    time.sleep(1)"
   ]
  },
  {
   "cell_type": "code",
   "execution_count": 2,
   "metadata": {},
   "outputs": [],
   "source": [
    "# Monza laptimes, from 2003-2021\n",
    "\n",
    "# Let's first get what round the Monza races have occured\n",
    "monza_list = []\n",
    "for year in range(2003, 2022):\n",
    "    season_file = open(f\"./data/all-seasons-results/{year}.json\")\n",
    "    season_data = json.load(season_file)\n",
    "    for race in season_data[\"MRData\"][\"RaceTable\"][\"Races\"]:\n",
    "        if race[\"Circuit\"][\"circuitId\"] == \"monza\":\n",
    "            monza_list.append(race[\"round\"])\n",
    "\n",
    "# Now we use that list to get the fastest lap times from qualifying\n",
    "year = 2003\n",
    "for race in monza_list:\n",
    "    laptime_request = requests.get(url=f\"http://ergast.com/api/f1/{year}/{race}/qualifying.json\")\n",
    "    json_laptime_data = laptime_request.json()\n",
    "    with open(f\"./data/2003-2021-monza-laptimes/{year}.json\", \"w\", encoding=\"utf-8\") as laptime_file:\n",
    "        json.dump(json_laptime_data, laptime_file, ensure_ascii=False, indent=4)\n",
    "    year += 1\n",
    "    time.sleep(2)"
   ]
  },
  {
   "cell_type": "code",
   "execution_count": 7,
   "metadata": {},
   "outputs": [],
   "source": [
    "# Spa laptimes, from 2003-2021\n",
    "spa_list = []\n",
    "for year in range(2004, 2022):\n",
    "    if year != 2006:\n",
    "        season_file = open(f\"./data/all-seasons-results/{year}.json\")\n",
    "        season_data = json.load(season_file)\n",
    "        for race in season_data[\"MRData\"][\"RaceTable\"][\"Races\"]:\n",
    "            if race[\"Circuit\"][\"circuitId\"] == \"spa\":\n",
    "                spa_list.append(race[\"round\"])\n",
    "\n",
    "# races that didn't happen: 2003 and 2006\n",
    "abscent_years = [2003, 2006]\n",
    "year = 2004\n",
    "for race in spa_list:\n",
    "    if year in abscent_years:\n",
    "        year += 1\n",
    "    laptime_request = requests.get(url=f\"http://ergast.com/api/f1/{year}/{race}/qualifying.json\")\n",
    "    json_laptime_data = laptime_request.json()\n",
    "    with open(f\"./data/2004-2021-spa-laptimes/{year}.json\", \"w\", encoding=\"utf-8\") as laptime_file:\n",
    "        json.dump(json_laptime_data, laptime_file, ensure_ascii=False, indent=4)\n",
    "    time.sleep(2)\n",
    "    year += 1"
   ]
  },
  {
   "cell_type": "code",
   "execution_count": null,
   "metadata": {},
   "outputs": [],
   "source": []
  }
 ],
 "metadata": {
  "interpreter": {
   "hash": "1c73338e98782030ccc6effafb47e120801a557491b5fa6b10f7b3126cc21af9"
  },
  "kernelspec": {
   "display_name": "Python 3.9.10",
   "language": "python",
   "name": "python3"
  },
  "language_info": {
   "codemirror_mode": {
    "name": "ipython",
    "version": 3
   },
   "file_extension": ".py",
   "mimetype": "text/x-python",
   "name": "python",
   "nbconvert_exporter": "python",
   "pygments_lexer": "ipython3",
   "version": "3.9.10"
  },
  "orig_nbformat": 4
 },
 "nbformat": 4,
 "nbformat_minor": 2
}
