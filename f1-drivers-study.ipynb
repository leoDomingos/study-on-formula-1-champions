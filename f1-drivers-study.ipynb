{
 "cells": [
  {
   "cell_type": "markdown",
   "metadata": {},
   "source": [
    "# The numbers behind Formula One champions\n",
    "\n",
    "On this notebook, I will analise several statistics of Formula One's most succesfull drivers. The covered topics will be:\n",
    "* The top 10 drivers with the most wins\n",
    "* How the definition of a successfull driver changed over the years\n",
    "* The influence the team has over a driver's success\n",
    "* Interesting bits of data\n",
    "\n",
    "For this analysis, I will be using ergast's database. More info about it can be found at http://ergast.com/mrd/"
   ]
  },
  {
   "cell_type": "code",
   "execution_count": 2,
   "metadata": {},
   "outputs": [
    {
     "name": "stderr",
     "output_type": "stream",
     "text": [
      "\n",
      "Bad key \"text.kerning_factor\" on line 4 in\n",
      "C:\\Users\\Leonardo\\Documents\\Python\\Research-Projects\\research-env\\lib\\site-packages\\matplotlib\\mpl-data\\stylelib\\_classic_test_patch.mplstyle.\n",
      "You probably need to get an updated matplotlibrc file from\n",
      "https://github.com/matplotlib/matplotlib/blob/v3.1.2/matplotlibrc.template\n",
      "or from the matplotlib source distribution\n"
     ]
    }
   ],
   "source": [
    "# Standart imports\n",
    "import numpy as np\n",
    "import matplotlib.pyplot as plt\n",
    "import pandas as pd\n",
    "import seaborn\n",
    "import requests"
   ]
  },
  {
   "cell_type": "markdown",
   "metadata": {},
   "source": [
    "## Top 10 best drivers\n",
    "\n",
    "In this section, we analyze the 10 drivers who won the most."
   ]
  },
  {
   "cell_type": "markdown",
   "metadata": {},
   "source": [
    "First, let's use the api to see which seasons it has data of."
   ]
  },
  {
   "cell_type": "code",
   "execution_count": 3,
   "metadata": {},
   "outputs": [
    {
     "name": "stdout",
     "output_type": "stream",
     "text": [
      "73\n"
     ]
    }
   ],
   "source": [
    "response = requests.get(url=\"http://ergast.com/api/f1/seasons.json?limit=73&offset=0\")\n",
    "data = response.json()\n",
    "list_of_seasons = []\n",
    "for season in data[\"MRData\"][\"SeasonTable\"][\"Seasons\"]:\n",
    "    list_of_seasons.append(season[\"season\"])\n",
    "print(len(list_of_seasons))"
   ]
  },
  {
   "cell_type": "markdown",
   "metadata": {},
   "source": [
    "F1's first season was back in 1950. So the database used has all seasons logged.\n",
    "\n",
    "Now, let's see an example of how to get all the winners of a season, and then graph it."
   ]
  },
  {
   "cell_type": "code",
   "execution_count": 4,
   "metadata": {},
   "outputs": [
    {
     "data": {
      "image/png": "[encoded data removed]",
      "text/plain": [
       "<Figure size 432x288 with 1 Axes>"
      ]
     },
     "metadata": {
      "needs_background": "light"
     },
     "output_type": "display_data"
    }
   ],
   "source": [
    "response = requests.get(url=\"http://ergast.com/api/f1/2008/results/1.json\")\n",
    "data = response.json()\n",
    "winners_2008 = []\n",
    "for race in data[\"MRData\"][\"RaceTable\"][\"Races\"]:\n",
    "    winners_2008.append(race[\"Results\"][0][\"Driver\"][\"code\"])\n",
    "\n",
    "drivers, nmbr_wins = np.unique(winners_2008, return_counts=True)\n",
    "plt.bar(x=drivers, height=nmbr_wins, align=\"center\");"
   ]
  },
  {
   "cell_type": "markdown",
   "metadata": {},
   "source": [
    "So we see that Felipe Massa won one more race than Lewis Hamilton, but still lost the 2008 championship.\n",
    "\n",
    "Now, let's try to do the same, but for every season in Formula 1."
   ]
  },
  {
   "cell_type": "code",
   "execution_count": 5,
   "metadata": {},
   "outputs": [
    {
     "data": {
      "text/plain": [
       "{'Nino Farina': 5,\n",
       " 'Juan Fangio': 23,\n",
       " 'Johnnie Parsons': 1,\n",
       " 'Lee Wallard': 1,\n",
       " 'José Froilán González': 2,\n",
       " 'Alberto Ascari': 13,\n",
       " 'Piero Taruffi': 1,\n",
       " 'Troy Ruttman': 1,\n",
       " 'Bill Vukovich': 2,\n",
       " 'Mike Hawthorn': 3,\n",
       " 'Maurice Trintignant': 2,\n",
       " 'Bob Sweikert': 1,\n",
       " 'Stirling Moss': 16,\n",
       " 'Luigi Musso': 1,\n",
       " 'Pat Flaherty': 1,\n",
       " 'Peter Collins': 3,\n",
       " 'Sam Hanks': 1,\n",
       " 'Jimmy Bryan': 1,\n",
       " 'Tony Brooks': 5,\n",
       " 'Jack Brabham': 14,\n",
       " 'Rodger Ward': 1,\n",
       " 'Jo Bonnier': 1,\n",
       " 'Bruce McLaren': 4,\n",
       " 'Jim Rathmann': 1,\n",
       " 'Phil Hill': 3,\n",
       " 'Wolfgang von Trips': 2,\n",
       " 'Giancarlo Baghetti': 1,\n",
       " 'Innes Ireland': 1,\n",
       " 'Graham Hill': 14,\n",
       " 'Jim Clark': 25,\n",
       " 'Dan Gurney': 4,\n",
       " 'John Surtees': 6,\n",
       " 'Lorenzo Bandini': 1,\n",
       " 'Jackie Stewart': 27,\n",
       " 'Richie Ginther': 1,\n",
       " 'Ludovico Scarfiotti': 1,\n",
       " 'Pedro Rodríguez': 2,\n",
       " 'Denny Hulme': 8,\n",
       " 'Jacky Ickx': 8,\n",
       " 'Jo Siffert': 2,\n",
       " 'Jochen Rindt': 6,\n",
       " 'Clay Regazzoni': 5,\n",
       " 'Emerson Fittipaldi': 14,\n",
       " 'Mario Andretti': 12,\n",
       " 'Peter Gethin': 1,\n",
       " 'François Cevert': 1,\n",
       " 'Jean-Pierre Beltoise': 1,\n",
       " 'Ronnie Peterson': 10,\n",
       " 'Peter Revson': 2,\n",
       " 'Carlos Reutemann': 12,\n",
       " 'Niki Lauda': 25,\n",
       " 'Jody Scheckter': 10,\n",
       " 'Carlos Pace': 1,\n",
       " 'Jochen Mass': 1,\n",
       " 'James Hunt': 10,\n",
       " 'Vittorio Brambilla': 1,\n",
       " 'John Watson': 5,\n",
       " 'Gunnar Nilsson': 1,\n",
       " 'Jacques Laffite': 6,\n",
       " 'Alan Jones': 12,\n",
       " 'Patrick Depailler': 2,\n",
       " 'Gilles Villeneuve': 6,\n",
       " 'Jean-Pierre Jabouille': 2,\n",
       " 'René Arnoux': 7,\n",
       " 'Nelson Piquet': 23,\n",
       " 'Didier Pironi': 3,\n",
       " 'Alain Prost': 51,\n",
       " 'Riccardo Patrese': 6,\n",
       " 'Patrick Tambay': 2,\n",
       " 'Elio de Angelis': 2,\n",
       " 'Keke Rosberg': 5,\n",
       " 'Michele Alboreto': 5,\n",
       " 'Ayrton Senna': 41,\n",
       " 'Nigel Mansell': 31,\n",
       " 'Gerhard Berger': 10,\n",
       " 'Thierry Boutsen': 3,\n",
       " 'Alessandro Nannini': 1,\n",
       " 'Michael Schumacher': 91,\n",
       " 'Damon Hill': 22,\n",
       " 'Jean Alesi': 1,\n",
       " 'Johnny Herbert': 3,\n",
       " 'David Coulthard': 13,\n",
       " 'Jacques Villeneuve': 11,\n",
       " 'Olivier Panis': 1,\n",
       " 'Heinz-Harald Frentzen': 3,\n",
       " 'Mika Häkkinen': 20,\n",
       " 'Eddie Irvine': 4,\n",
       " 'Rubens Barrichello': 11,\n",
       " 'Ralf Schumacher': 6,\n",
       " 'Juan Pablo Montoya': 7,\n",
       " 'Kimi Räikkönen': 21,\n",
       " 'Giancarlo Fisichella': 3,\n",
       " 'Fernando Alonso': 32,\n",
       " 'Jarno Trulli': 1,\n",
       " 'Jenson Button': 15,\n",
       " 'Felipe Massa': 11,\n",
       " 'Lewis Hamilton': 103,\n",
       " 'Robert Kubica': 1,\n",
       " 'Heikki Kovalainen': 1,\n",
       " 'Sebastian Vettel': 53,\n",
       " 'Mark Webber': 9,\n",
       " 'Nico Rosberg': 23,\n",
       " 'Pastor Maldonado': 1,\n",
       " 'Daniel Ricciardo': 8,\n",
       " 'Max Verstappen': 21,\n",
       " 'Valtteri Bottas': 10,\n",
       " 'Charles Leclerc': 3,\n",
       " 'Pierre Gasly': 1,\n",
       " 'Sergio Pérez': 2,\n",
       " 'Esteban Ocon': 1}"
      ]
     },
     "execution_count": 5,
     "metadata": {},
     "output_type": "execute_result"
    }
   ],
   "source": [
    "year = 1950\n",
    "winners_list = []\n",
    "winners_dict = {}\n",
    "for i in range(73):\n",
    "    response = requests.get(url=f\"http://ergast.com/api/f1/{year+i}/results/1.json\")\n",
    "    data = response.json()\n",
    "    for race in data[\"MRData\"][\"RaceTable\"][\"Races\"]:\n",
    "        # Every time a driver wins, let's append his name to winners_list\n",
    "        winners_list.append(race[\"Results\"][0][\"Driver\"][\"givenName\"]+\" \"+race[\"Results\"][0][\"Driver\"][\"familyName\"])\n",
    "for driver in winners_list:\n",
    "    # Each key on winners_dict will have a value of how many times that driver appears on winners_list\n",
    "    winners_dict[driver] = winners_list.count(driver)\n",
    "winners_dict"
   ]
  },
  {
   "cell_type": "code",
   "execution_count": 6,
   "metadata": {},
   "outputs": [
    {
     "data": {
      "image/png": "[encoded data removed]",
      "text/plain": [
       "<Figure size 2160x720 with 1 Axes>"
      ]
     },
     "metadata": {
      "needs_background": "light"
     },
     "output_type": "display_data"
    }
   ],
   "source": [
    "plt.subplots(figsize=(30,10))\n",
    "plt.bar(x=winners_dict.keys(), height=winners_dict.values(), align=\"center\");"
   ]
  },
  {
   "cell_type": "code",
   "execution_count": 7,
   "metadata": {},
   "outputs": [
    {
     "data": {
      "text/html": [
       "<div>\n",
       "<style scoped>\n",
       "    .dataframe tbody tr th:only-of-type {\n",
       "        vertical-align: middle;\n",
       "    }\n",
       "\n",
       "    .dataframe tbody tr th {\n",
       "        vertical-align: top;\n",
       "    }\n",
       "\n",
       "    .dataframe thead th {\n",
       "        text-align: right;\n",
       "    }\n",
       "</style>\n",
       "<table border=\"1\" class=\"dataframe\">\n",
       "  <thead>\n",
       "    <tr style=\"text-align: right;\">\n",
       "      <th></th>\n",
       "      <th>Drivers</th>\n",
       "      <th>Wins</th>\n",
       "    </tr>\n",
       "  </thead>\n",
       "  <tbody>\n",
       "    <tr>\n",
       "      <th>0</th>\n",
       "      <td>Nino Farina</td>\n",
       "      <td>5</td>\n",
       "    </tr>\n",
       "    <tr>\n",
       "      <th>1</th>\n",
       "      <td>Juan Fangio</td>\n",
       "      <td>23</td>\n",
       "    </tr>\n",
       "    <tr>\n",
       "      <th>2</th>\n",
       "      <td>Johnnie Parsons</td>\n",
       "      <td>1</td>\n",
       "    </tr>\n",
       "    <tr>\n",
       "      <th>3</th>\n",
       "      <td>Lee Wallard</td>\n",
       "      <td>1</td>\n",
       "    </tr>\n",
       "    <tr>\n",
       "      <th>4</th>\n",
       "      <td>José Froilán González</td>\n",
       "      <td>2</td>\n",
       "    </tr>\n",
       "    <tr>\n",
       "      <th>...</th>\n",
       "      <td>...</td>\n",
       "      <td>...</td>\n",
       "    </tr>\n",
       "    <tr>\n",
       "      <th>105</th>\n",
       "      <td>Valtteri Bottas</td>\n",
       "      <td>10</td>\n",
       "    </tr>\n",
       "    <tr>\n",
       "      <th>106</th>\n",
       "      <td>Charles Leclerc</td>\n",
       "      <td>3</td>\n",
       "    </tr>\n",
       "    <tr>\n",
       "      <th>107</th>\n",
       "      <td>Pierre Gasly</td>\n",
       "      <td>1</td>\n",
       "    </tr>\n",
       "    <tr>\n",
       "      <th>108</th>\n",
       "      <td>Sergio Pérez</td>\n",
       "      <td>2</td>\n",
       "    </tr>\n",
       "    <tr>\n",
       "      <th>109</th>\n",
       "      <td>Esteban Ocon</td>\n",
       "      <td>1</td>\n",
       "    </tr>\n",
       "  </tbody>\n",
       "</table>\n",
       "<p>110 rows × 2 columns</p>\n",
       "</div>"
      ],
      "text/plain": [
       "                   Drivers  Wins\n",
       "0              Nino Farina     5\n",
       "1              Juan Fangio    23\n",
       "2          Johnnie Parsons     1\n",
       "3              Lee Wallard     1\n",
       "4    José Froilán González     2\n",
       "..                     ...   ...\n",
       "105        Valtteri Bottas    10\n",
       "106        Charles Leclerc     3\n",
       "107           Pierre Gasly     1\n",
       "108           Sergio Pérez     2\n",
       "109           Esteban Ocon     1\n",
       "\n",
       "[110 rows x 2 columns]"
      ]
     },
     "execution_count": 7,
     "metadata": {},
     "output_type": "execute_result"
    }
   ],
   "source": [
    "# Making a DataFrame to make things clearer\n",
    "driver_series = pd.Series(winners_dict.keys())\n",
    "wins_series = pd.Series(winners_dict.values())\n",
    "test = {\n",
    "    \"Drivers\":driver_series,\n",
    "    \"Wins\":wins_series\n",
    "}\n",
    "wincount_df = pd.DataFrame(test)\n",
    "wincount_df"
   ]
  },
  {
   "cell_type": "code",
   "execution_count": 8,
   "metadata": {},
   "outputs": [
    {
     "data": {
      "text/html": [
       "<div>\n",
       "<style scoped>\n",
       "    .dataframe tbody tr th:only-of-type {\n",
       "        vertical-align: middle;\n",
       "    }\n",
       "\n",
       "    .dataframe tbody tr th {\n",
       "        vertical-align: top;\n",
       "    }\n",
       "\n",
       "    .dataframe thead th {\n",
       "        text-align: right;\n",
       "    }\n",
       "</style>\n",
       "<table border=\"1\" class=\"dataframe\">\n",
       "  <thead>\n",
       "    <tr style=\"text-align: right;\">\n",
       "      <th></th>\n",
       "      <th>Drivers</th>\n",
       "      <th>Wins</th>\n",
       "    </tr>\n",
       "  </thead>\n",
       "  <tbody>\n",
       "    <tr>\n",
       "      <th>96</th>\n",
       "      <td>Lewis Hamilton</td>\n",
       "      <td>103</td>\n",
       "    </tr>\n",
       "    <tr>\n",
       "      <th>77</th>\n",
       "      <td>Michael Schumacher</td>\n",
       "      <td>91</td>\n",
       "    </tr>\n",
       "    <tr>\n",
       "      <th>99</th>\n",
       "      <td>Sebastian Vettel</td>\n",
       "      <td>53</td>\n",
       "    </tr>\n",
       "    <tr>\n",
       "      <th>66</th>\n",
       "      <td>Alain Prost</td>\n",
       "      <td>51</td>\n",
       "    </tr>\n",
       "    <tr>\n",
       "      <th>72</th>\n",
       "      <td>Ayrton Senna</td>\n",
       "      <td>41</td>\n",
       "    </tr>\n",
       "    <tr>\n",
       "      <th>92</th>\n",
       "      <td>Fernando Alonso</td>\n",
       "      <td>32</td>\n",
       "    </tr>\n",
       "    <tr>\n",
       "      <th>73</th>\n",
       "      <td>Nigel Mansell</td>\n",
       "      <td>31</td>\n",
       "    </tr>\n",
       "    <tr>\n",
       "      <th>33</th>\n",
       "      <td>Jackie Stewart</td>\n",
       "      <td>27</td>\n",
       "    </tr>\n",
       "    <tr>\n",
       "      <th>29</th>\n",
       "      <td>Jim Clark</td>\n",
       "      <td>25</td>\n",
       "    </tr>\n",
       "    <tr>\n",
       "      <th>50</th>\n",
       "      <td>Niki Lauda</td>\n",
       "      <td>25</td>\n",
       "    </tr>\n",
       "  </tbody>\n",
       "</table>\n",
       "</div>"
      ],
      "text/plain": [
       "               Drivers  Wins\n",
       "96      Lewis Hamilton   103\n",
       "77  Michael Schumacher    91\n",
       "99    Sebastian Vettel    53\n",
       "66         Alain Prost    51\n",
       "72        Ayrton Senna    41\n",
       "92     Fernando Alonso    32\n",
       "73       Nigel Mansell    31\n",
       "33      Jackie Stewart    27\n",
       "29           Jim Clark    25\n",
       "50          Niki Lauda    25"
      ]
     },
     "execution_count": 8,
     "metadata": {},
     "output_type": "execute_result"
    }
   ],
   "source": [
    "# Now let's see the top 10 winners.\n",
    "sorted_wincount_df = wincount_df.sort_values(\"Wins\", ascending=False, axis=0)\n",
    "top_10_df = sorted_wincount_df[:10]\n",
    "top_10_df"
   ]
  },
  {
   "cell_type": "code",
   "execution_count": 9,
   "metadata": {},
   "outputs": [
    {
     "data": {
      "image/png": "[encoded data removed]",
      "text/plain": [
       "<Figure size 1440x360 with 1 Axes>"
      ]
     },
     "metadata": {
      "needs_background": "light"
     },
     "output_type": "display_data"
    }
   ],
   "source": [
    "# Making a graph of these guys\n",
    "plt.subplots(figsize=(20,5))\n",
    "plt.bar(x=top_10_df.Drivers, height=top_10_df.Wins);"
   ]
  },
  {
   "cell_type": "markdown",
   "metadata": {},
   "source": [
    "This graph shows us the 10 drivers who won the most races. With only this info at hand, one might say that these are the best drivers Formula 1 has ever had.\n",
    "\n",
    "But this misses a critical point: How the sport changed over the years."
   ]
  },
  {
   "cell_type": "markdown",
   "metadata": {},
   "source": [
    "## How the definition of a succesfull driver changed over the years\n",
    "\n",
    "To have a better understanding of how dominant a driver was, we need to consider the state of the sport back when they were driving."
   ]
  },
  {
   "cell_type": "markdown",
   "metadata": {},
   "source": [
    "### Races per season\n",
    "\n",
    "This is probably the most important factor. Lewis Hamilton and Michael Schumacher would probably have a much harder time getting 90~100 race wins back in 1980, as back then there were only 14 races per season.\n",
    "\n",
    "With this in mind, let's see how the number of races per season has changed over the years."
   ]
  },
  {
   "cell_type": "code",
   "execution_count": 10,
   "metadata": {},
   "outputs": [],
   "source": [
    "year = 1950\n",
    "# Let's use a dictionary to store this data\n",
    "races_per_season = {}\n",
    "# This time we don't want to include the 2022 season, as it is not over. So, range(72).\n",
    "for i in range(72):\n",
    "    response = requests.get(url=f\"http://ergast.com/api/f1/{year+i}/results/1.json\")\n",
    "    data = response.json()\n",
    "    races_per_season[year+i] = 0\n",
    "    for race in data[\"MRData\"][\"RaceTable\"][\"Races\"]:\n",
    "        races_per_season[year+i] += 1"
   ]
  },
  {
   "cell_type": "code",
   "execution_count": 11,
   "metadata": {},
   "outputs": [
    {
     "data": {
      "image/png": "[encoded data removed]",
      "text/plain": [
       "<Figure size 432x288 with 1 Axes>"
      ]
     },
     "metadata": {
      "needs_background": "light"
     },
     "output_type": "display_data"
    }
   ],
   "source": [
    "plt.plot(list(races_per_season.keys()), list(races_per_season.values()));"
   ]
  },
  {
   "cell_type": "markdown",
   "metadata": {},
   "source": [
    "Notice the upward trend. In the first decades, there were barely 10 races a year. If Hamilton was to get his 100 wins back then, he would need to win a decade's worth of championships first. This would be extremely unlikely, since the car regulations change after every season, and a team that has a good car for one year might not have one for the next.\n",
    "\n",
    "This is why well-known drivers such as Juan Fangio or Alberto Ascari are not in the top 10: They simply did not have enough races per season to do so. Furthermore, the regulation changes after each year were massive, since the engineers were still discovering the importance of downforce, and different ways of achieving it. As a result, it was unusual for a team to do well for more than a couple of years. This makes it even more impressive when someone who raced in those early years, such as Niki Lauda or Jim Clark, does appear in the top 10.\n",
    "\n",
    "Sidenote: Notice how covid-19 impacted the graph during the 2020 season: We went back to having as many races as we had back in the late 2000s."
   ]
  },
  {
   "cell_type": "markdown",
   "metadata": {},
   "source": [
    "### Average driver age throughout the years\n",
    "\n",
    "It is important to analyze this data, as every sporstsmen has an \"expiration date\"; when their bodies simply aren't up to the task anymore. Which means that the earlier someone starts at F1, the more races they can have before retiring. \n",
    "\n",
    "This wasn't really a concern back in the 50s, as the sport was still growing, and every driver was old enough to be a dad. Nowadays, the 2021 champion started on F1 when he was just 17 years old. And he started go-karting when he was just 4 years old."
   ]
  },
  {
   "cell_type": "markdown",
   "metadata": {},
   "source": [
    "To analyze this data, we will analyze two averages: The average of the whole grid, and the average of the championship winner.\n",
    "\n",
    "To prevent the code from running for 3 minutes, we will not analyze the age of all drivers in all the races of a season. Instead, we will only look at the first race of the season, and draw our year-average from there."
   ]
  },
  {
   "cell_type": "code",
   "execution_count": 12,
   "metadata": {},
   "outputs": [
    {
     "data": {
      "text/plain": [
       "{1950: 39.52173913043478,\n",
       " 1951: 39.76190476190476,\n",
       " 1952: 37.31818181818182,\n",
       " 1953: 35.588235294117645,\n",
       " 1954: 36.388888888888886,\n",
       " 1955: 34.8,\n",
       " 1956: 34.6875,\n",
       " 1957: 32.1764705882353,\n",
       " 1958: 36.1,\n",
       " 1959: 32.416666666666664,\n",
       " 1960: 33.26086956521739,\n",
       " 1961: 30.904761904761905,\n",
       " 1962: 30.59090909090909,\n",
       " 1963: 31.28,\n",
       " 1964: 31.869565217391305,\n",
       " 1965: 31.433333333333334,\n",
       " 1966: 32.25,\n",
       " 1967: 33.72222222222222,\n",
       " 1968: 33.0,\n",
       " 1969: 33.166666666666664,\n",
       " 1970: 31.82608695652174,\n",
       " 1971: 32.76,\n",
       " 1972: 31.136363636363637,\n",
       " 1973: 31.05263157894737,\n",
       " 1974: 30.96,\n",
       " 1975: 31.608695652173914,\n",
       " 1976: 30.772727272727273,\n",
       " 1977: 31.476190476190474,\n",
       " 1978: 31.22222222222222,\n",
       " 1979: 31.0,\n",
       " 1980: 30.892857142857142,\n",
       " 1981: 29.413793103448278,\n",
       " 1982: 30.166666666666668,\n",
       " 1983: 30.107142857142858,\n",
       " 1984: 30.14814814814815,\n",
       " 1985: 30.8,\n",
       " 1986: 31.76,\n",
       " 1987: 29.82608695652174,\n",
       " 1988: 30.533333333333335,\n",
       " 1989: 30.733333333333334,\n",
       " 1990: 30.4,\n",
       " 1991: 30.433333333333334,\n",
       " 1992: 30.0,\n",
       " 1993: 30.653846153846153,\n",
       " 1994: 29.142857142857142,\n",
       " 1995: 29.423076923076923,\n",
       " 1996: 29.0,\n",
       " 1997: 29.041666666666668,\n",
       " 1998: 28.318181818181817,\n",
       " 1999: 29.227272727272727,\n",
       " 2000: 28.727272727272727,\n",
       " 2001: 28.136363636363637,\n",
       " 2002: 28.90909090909091,\n",
       " 2003: 28.8,\n",
       " 2004: 27.85,\n",
       " 2005: 28.7,\n",
       " 2006: 29.09090909090909,\n",
       " 2007: 28.40909090909091,\n",
       " 2008: 28.181818181818183,\n",
       " 2009: 28.15,\n",
       " 2010: 28.458333333333332,\n",
       " 2011: 29.166666666666668,\n",
       " 2012: 29.083333333333332,\n",
       " 2013: 27.318181818181817,\n",
       " 2014: 27.181818181818183,\n",
       " 2015: 27.11111111111111,\n",
       " 2016: 27.5,\n",
       " 2017: 27.45,\n",
       " 2018: 27.55,\n",
       " 2019: 27.5,\n",
       " 2020: 27.5,\n",
       " 2021: 27.95,\n",
       " 2022: 28.15}"
      ]
     },
     "execution_count": 12,
     "metadata": {},
     "output_type": "execute_result"
    }
   ],
   "source": [
    "year = 1950\n",
    "# Let's store the data on a list\n",
    "driver_avg_age = {}\n",
    "# Again, we don't include the 2022 season, as the Monaco GP hasn't happened yet. So, range(72).\n",
    "for i in range(73):\n",
    "    # We now need the 1 after the year to specify which race we want\n",
    "    response = requests.get(url=f\"http://ergast.com/api/f1/{year+i}/1/results.json\")\n",
    "    data = response.json()\n",
    "    year_average = 0\n",
    "    total_drivers = 0\n",
    "    sum_of_age = 0\n",
    "    for driver in data[\"MRData\"][\"RaceTable\"][\"Races\"][0][\"Results\"]:\n",
    "        # Get the year they were born, and subtract to find how old they were\n",
    "        sum_of_age += (year+i) - int(driver[\"Driver\"][\"dateOfBirth\"][:4])\n",
    "        total_drivers += 1\n",
    "    year_average = sum_of_age/total_drivers\n",
    "    driver_avg_age[year+i] = year_average\n",
    "driver_avg_age"
   ]
  },
  {
   "cell_type": "code",
   "execution_count": 13,
   "metadata": {},
   "outputs": [
    {
     "data": {
      "image/png": "[encoded data removed]",
      "text/plain": [
       "<Figure size 432x288 with 1 Axes>"
      ]
     },
     "metadata": {
      "needs_background": "light"
     },
     "output_type": "display_data"
    }
   ],
   "source": [
    "# Make the data more visual\n",
    "plt.plot(list(driver_avg_age.keys()), list(driver_avg_age.values()));"
   ]
  },
  {
   "cell_type": "markdown",
   "metadata": {},
   "source": [
    "The average difference between a current F1 driver and one from 1960s is around 5 years. Of course there are outliers, such as Lewis Hamilton winning his 100th GP at the \"old\" age of 36. But the trend is clear: the drivers are getting younger, and as a result they have more time to break records."
   ]
  },
  {
   "cell_type": "markdown",
   "metadata": {},
   "source": [
    "## Team's influence over a driver success"
   ]
  },
  {
   "cell_type": "markdown",
   "metadata": {},
   "source": [
    "Perhaps the most important factor of all: the driver's team. They are the ones responsible  behind the car that each world champion used to win. No one in the history of F1 managed to win a championship with a below average car.\n",
    "\n",
    "The tricky part is: how can you say that a driver's win was because of the car, not because of skill? \n",
    "\n",
    "The answer is that you can't really do that. Many factors need to be taken into consideration when deciding if a car is good or not; you would need to have a team of engineers analyzing each car's blueprints to arrive at an educated conclusion. Add to that the amount of seasons we had, and accurately analyzing if a driver's success was down to skill or engineering is basically impossible.\n",
    "\n",
    "With that said, we can make some guesses."
   ]
  },
  {
   "cell_type": "markdown",
   "metadata": {},
   "source": [
    "The main point we are going to analyze is the other championship that happens in F1: the World Constructors' Championship. While the World Driver's Championship mostly comes down to one driver only, the constructors' relies on the teammate as well. If a team has one good driver and a bad driver, they might win the WDC, but they will most likely lose the WCC. They need both drivers scoring points throughout the season to get the WCC.\n",
    "\n",
    "For the following data analysis, we will assume that it's unlikely for a team to have 2 extremely good drivers. This means that, if a team won the WCC, it was because they just had the better car all around. So if the team managed to win just the WDC, but not the WCC, it is an indicator that driver's skill played a role on the championship result.\n",
    "\n",
    "Of course this is prone to errors. For instance: for a couple of seasons McLaren had both Ayrton Senna and Alain Prost as their drivers, and both of them are in the top 10 wins list and are in the discussion of being the greatest of all time. During those years, they also constructed what turned out to be the most dominant car of all time: the MP4/4, winning 15 out of the 16 races of 1988. This would lead us to believe that the 1988 WDC was decided at the factory, and that Senna (who won the WDC that year) wasn't necessarily good. But then again, scenarios like this almost never happened again."
   ]
  },
  {
   "cell_type": "code",
   "execution_count": 38,
   "metadata": {},
   "outputs": [],
   "source": [
    "year = 1950\n",
    "# Let's use a dictionary to store this data\n",
    "is_wdc_also_wcc = {}\n",
    "# The constructors championship was not awarded until 1958. So the first year needs to be 1958\n",
    "year=1958\n",
    "# This time, we need to adjust our range.\n",
    "for i in range(65):\n",
    "    drivers_response = requests.get(url=f\"http://ergast.com/api/f1/{year+i}/driverStandings.json\")\n",
    "    teams_response = requests.get(url=f\"http://ergast.com/api/f1/{year+i}/constructorStandings.json\")\n",
    "    drivers_data = drivers_response.json()\n",
    "    teams_data = teams_response.json()\n",
    "    # The team who won the wdc\n",
    "    wdc_winner = drivers_data[\"MRData\"][\"StandingsTable\"][\"StandingsLists\"][0][\"DriverStandings\"][0][\"Constructors\"][0][\"constructorId\"]\n",
    "    # The team who won the wcc\n",
    "    wcc_winner = teams_data[\"MRData\"][\"StandingsTable\"][\"StandingsLists\"][0][\"ConstructorStandings\"][0][\"Constructor\"][\"constructorId\"]\n",
    "    if wdc_winner == wcc_winner:\n",
    "        is_wdc_also_wcc[year+i] = 1\n",
    "    else:\n",
    "        is_wdc_also_wcc[year+i] = 0"
   ]
  },
  {
   "cell_type": "code",
   "execution_count": 54,
   "metadata": {},
   "outputs": [
    {
     "data": {
      "image/png": "[encoded data removed]",
      "text/plain": [
       "<Figure size 432x288 with 1 Axes>"
      ]
     },
     "metadata": {},
     "output_type": "display_data"
    }
   ],
   "source": [
    "wdc_is_wcc_percent = np.average(list(is_wdc_also_wcc.values()))\n",
    "explode = (0,0.1)\n",
    "labels = [\"Only one\",\"Both Championships\"]\n",
    "fig, ax1 = plt.subplots()\n",
    "ax1.pie([1-wdc_is_wcc_percent,wdc_is_wcc_percent],explode=explode,labels=labels,autopct='%1.1f%%',shadow=True);\n",
    "ax1.axis(\"equal\");"
   ]
  },
  {
   "cell_type": "markdown",
   "metadata": {},
   "source": [
    "This graph shows us the expected: Most of the times, if a driver wins the wdc, the team wins the wcc too.\n",
    "\n",
    "This means that, in order to win, a driver must have an atleast somewhat competitive car."
   ]
  },
  {
   "cell_type": "markdown",
   "metadata": {},
   "source": []
  }
 ],
 "metadata": {
  "interpreter": {
   "hash": "d661aa3986dc3aa4abf73a0972e360ad34ec732c7bdba1021bbf1cd681725a25"
  },
  "kernelspec": {
   "display_name": "Python 3.9.7 ('base')",
   "language": "python",
   "name": "python3"
  },
  "language_info": {
   "codemirror_mode": {
    "name": "ipython",
    "version": 3
   },
   "file_extension": ".py",
   "mimetype": "text/x-python",
   "name": "python",
   "nbconvert_exporter": "python",
   "pygments_lexer": "ipython3",
   "version": "3.9.10"
  },
  "orig_nbformat": 4
 },
 "nbformat": 4,
 "nbformat_minor": 2
}
