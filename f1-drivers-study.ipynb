{
 "cells": [
  {
   "cell_type": "markdown",
   "metadata": {},
   "source": [
    "# The numbers behind Formula One champions\n",
    "\n",
    "On this notebook, I will analise several statistics of Formula One's most succesfull drivers. The covered topics will be:\n",
    "* The top 10 drivers with the most wins, and the highest win %\n",
    "* How the \n",
    "* The influence the team has over a driver's success\n",
    "* Longest streaks"
   ]
  }
 ],
 "metadata": {
  "language_info": {
   "name": "python"
  },
  "orig_nbformat": 4
 },
 "nbformat": 4,
 "nbformat_minor": 2
}
