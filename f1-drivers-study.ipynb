{
 "cells": [
  {
   "cell_type": "markdown",
   "metadata": {},
   "source": [
    "# The numbers behind Formula One champions\n",
    "\n",
    "On this notebook, I will analise several statistics of Formula One's most succesfull drivers. The covered topics will be:\n",
    "* The top 10 drivers with the most wins, and the highest win %\n",
    "* How the definition of a successfull driver changed over the years\n",
    "* The influence the team has over a driver's success\n",
    "* Longest streaks\n",
    "\n",
    "For this analysis, I will be using ergast's database. More info about it can be found at http://ergast.com/mrd/"
   ]
  },
  {
   "cell_type": "code",
   "execution_count": 1,
   "metadata": {},
   "outputs": [
    {
     "name": "stderr",
     "output_type": "stream",
     "text": [
      "\n",
      "Bad key \"text.kerning_factor\" on line 4 in\n",
      "C:\\Users\\Leonardo\\Documents\\Python\\Research-Projects\\research-env\\lib\\site-packages\\matplotlib\\mpl-data\\stylelib\\_classic_test_patch.mplstyle.\n",
      "You probably need to get an updated matplotlibrc file from\n",
      "https://github.com/matplotlib/matplotlib/blob/v3.1.2/matplotlibrc.template\n",
      "or from the matplotlib source distribution\n"
     ]
    }
   ],
   "source": [
    "# Standart imports\n",
    "import numpy as np\n",
    "import matplotlib.pyplot as plt\n",
    "import pandas as pd\n",
    "import seaborn\n",
    "import requests"
   ]
  },
  {
   "cell_type": "markdown",
   "metadata": {},
   "source": [
    "## Top 10 \"best\" drivers\n",
    "\n",
    "In this section, we analyze the 10 drivers who won the most."
   ]
  },
  {
   "cell_type": "markdown",
   "metadata": {},
   "source": [
    "First, let's use the api to see which seasons it has data of."
   ]
  },
  {
   "cell_type": "code",
   "execution_count": 2,
   "metadata": {},
   "outputs": [
    {
     "name": "stdout",
     "output_type": "stream",
     "text": [
      "73\n"
     ]
    }
   ],
   "source": [
    "response = requests.get(url=\"http://ergast.com/api/f1/seasons.json?limit=73&offset=0\")\n",
    "data = response.json()\n",
    "list_of_seasons = []\n",
    "for season in data[\"MRData\"][\"SeasonTable\"][\"Seasons\"]:\n",
    "    list_of_seasons.append(season[\"season\"])\n",
    "print(len(list_of_seasons))"
   ]
  },
  {
   "cell_type": "markdown",
   "metadata": {},
   "source": [
    "F1's first season was back in 1950. So the database used has all seasons logged.\n",
    "\n",
    "Now, let's see an example of how to make a graph with the winners of a season."
   ]
  },
  {
   "cell_type": "code",
   "execution_count": 50,
   "metadata": {},
   "outputs": [
    {
     "data": {
      "image/png": "[encoded data removed]",
      "text/plain": [
       "<Figure size 432x288 with 1 Axes>"
      ]
     },
     "metadata": {
      "needs_background": "light"
     },
     "output_type": "display_data"
    }
   ],
   "source": [
    "response = requests.get(url=\"http://ergast.com/api/f1/2008/results/1.json\")\n",
    "data = response.json()\n",
    "winners_2008 = []\n",
    "for race in data[\"MRData\"][\"RaceTable\"][\"Races\"]:\n",
    "    winners_2008.append(race[\"Results\"][0][\"Driver\"][\"code\"])\n",
    "\n",
    "drivers, nmbr_wins = np.unique(winners_2008, return_counts=True)\n",
    "plt.bar(x=drivers, height=nmbr_wins, align=\"center\");"
   ]
  },
  {
   "cell_type": "markdown",
   "metadata": {},
   "source": [
    "So we see that Felipe Massa won one more race than Lewis Hamilton, but still lost the 2008 championship.\n",
    "\n",
    "Now, let's try to do the same, but for every season in Formula 1."
   ]
  },
  {
   "cell_type": "code",
   "execution_count": 42,
   "metadata": {},
   "outputs": [
    {
     "data": {
      "text/plain": [
       "{'NinoFarina': 5,\n",
       " 'JuanFangio': 23,\n",
       " 'JohnnieParsons': 1,\n",
       " 'LeeWallard': 1,\n",
       " 'José FroilánGonzález': 2,\n",
       " 'AlbertoAscari': 13,\n",
       " 'PieroTaruffi': 1,\n",
       " 'TroyRuttman': 1,\n",
       " 'BillVukovich': 2,\n",
       " 'MikeHawthorn': 3,\n",
       " 'MauriceTrintignant': 2,\n",
       " 'BobSweikert': 1,\n",
       " 'StirlingMoss': 15,\n",
       " 'LuigiMusso': 1,\n",
       " 'PatFlaherty': 1,\n",
       " 'PeterCollins': 3,\n",
       " 'SamHanks': 1,\n",
       " 'TonyBrooks': 6,\n",
       " 'JimmyBryan': 1,\n",
       " 'JackBrabham': 14,\n",
       " 'RodgerWard': 1,\n",
       " 'JoBonnier': 1,\n",
       " 'BruceMcLaren': 4,\n",
       " 'JimRathmann': 1,\n",
       " 'PhilHill': 3,\n",
       " 'Wolfgangvon Trips': 2,\n",
       " 'GiancarloBaghetti': 1,\n",
       " 'InnesIreland': 1,\n",
       " 'GrahamHill': 14,\n",
       " 'JimClark': 25,\n",
       " 'DanGurney': 4,\n",
       " 'JohnSurtees': 6,\n",
       " 'LorenzoBandini': 1,\n",
       " 'JackieStewart': 27,\n",
       " 'RichieGinther': 1,\n",
       " 'LudovicoScarfiotti': 1,\n",
       " 'PedroRodríguez': 2,\n",
       " 'DennyHulme': 8,\n",
       " 'JackyIckx': 8,\n",
       " 'JoSiffert': 2,\n",
       " 'JochenRindt': 6,\n",
       " 'ClayRegazzoni': 5,\n",
       " 'EmersonFittipaldi': 14,\n",
       " 'MarioAndretti': 12,\n",
       " 'PeterGethin': 1,\n",
       " 'FrançoisCevert': 1,\n",
       " 'Jean-PierreBeltoise': 1,\n",
       " 'RonniePeterson': 10,\n",
       " 'PeterRevson': 2,\n",
       " 'CarlosReutemann': 12,\n",
       " 'NikiLauda': 25,\n",
       " 'JodyScheckter': 10,\n",
       " 'CarlosPace': 1,\n",
       " 'JochenMass': 1,\n",
       " 'JamesHunt': 10,\n",
       " 'VittorioBrambilla': 1,\n",
       " 'JohnWatson': 5,\n",
       " 'GunnarNilsson': 1,\n",
       " 'JacquesLaffite': 6,\n",
       " 'AlanJones': 12,\n",
       " 'PatrickDepailler': 2,\n",
       " 'GillesVilleneuve': 6,\n",
       " 'Jean-PierreJabouille': 2,\n",
       " 'RenéArnoux': 7,\n",
       " 'NelsonPiquet': 23,\n",
       " 'DidierPironi': 3,\n",
       " 'AlainProst': 51,\n",
       " 'RiccardoPatrese': 6,\n",
       " 'PatrickTambay': 2,\n",
       " 'Eliode Angelis': 2,\n",
       " 'KekeRosberg': 5,\n",
       " 'MicheleAlboreto': 5,\n",
       " 'AyrtonSenna': 41,\n",
       " 'NigelMansell': 31,\n",
       " 'GerhardBerger': 10,\n",
       " 'ThierryBoutsen': 3,\n",
       " 'AlessandroNannini': 1,\n",
       " 'MichaelSchumacher': 91,\n",
       " 'DamonHill': 22,\n",
       " 'JeanAlesi': 1,\n",
       " 'JohnnyHerbert': 3,\n",
       " 'DavidCoulthard': 13,\n",
       " 'JacquesVilleneuve': 11,\n",
       " 'OlivierPanis': 1,\n",
       " 'Heinz-HaraldFrentzen': 3,\n",
       " 'MikaHäkkinen': 20,\n",
       " 'EddieIrvine': 4,\n",
       " 'RubensBarrichello': 11,\n",
       " 'RalfSchumacher': 6,\n",
       " 'JuanPablo Montoya': 7,\n",
       " 'KimiRäikkönen': 21,\n",
       " 'GiancarloFisichella': 3,\n",
       " 'FernandoAlonso': 32,\n",
       " 'JarnoTrulli': 1,\n",
       " 'JensonButton': 15,\n",
       " 'FelipeMassa': 11,\n",
       " 'LewisHamilton': 103,\n",
       " 'RobertKubica': 1,\n",
       " 'HeikkiKovalainen': 1,\n",
       " 'SebastianVettel': 53,\n",
       " 'MarkWebber': 9,\n",
       " 'NicoRosberg': 23,\n",
       " 'PastorMaldonado': 1,\n",
       " 'DanielRicciardo': 8,\n",
       " 'MaxVerstappen': 21,\n",
       " 'ValtteriBottas': 10,\n",
       " 'CharlesLeclerc': 3,\n",
       " 'PierreGasly': 1,\n",
       " 'SergioPérez': 2,\n",
       " 'EstebanOcon': 1}"
      ]
     },
     "execution_count": 42,
     "metadata": {},
     "output_type": "execute_result"
    }
   ],
   "source": [
    "# First, let's create a dictionary with the drivers' names and their number of wins\n",
    "year = 1950\n",
    "winners_list = []\n",
    "winners_dict = {}\n",
    "for i in range(73):\n",
    "    # Sorting through all seasons\n",
    "    response = requests.get(url=f\"http://ergast.com/api/f1/{year+i}/results/1.json\")\n",
    "    data = response.json()\n",
    "    for race in data[\"MRData\"][\"RaceTable\"][\"Races\"]:\n",
    "        # Every time a driver wins, let's append his/her name to winners_list\n",
    "        winners_list.append(race[\"Results\"][0][\"Driver\"][\"givenName\"]+race[\"Results\"][0][\"Driver\"][\"familyName\"])\n",
    "for driver in winners_list:\n",
    "    winners_dict[driver] = winners_list.count(driver)\n",
    "winners_dict"
   ]
  },
  {
   "cell_type": "code",
   "execution_count": 43,
   "metadata": {},
   "outputs": [
    {
     "data": {
      "image/png": "[encoded data removed]",
      "text/plain": [
       "<Figure size 2160x720 with 1 Axes>"
      ]
     },
     "metadata": {
      "needs_background": "light"
     },
     "output_type": "display_data"
    }
   ],
   "source": [
    "plt.subplots(figsize=(30,10))\n",
    "plt.bar(x=winners_dict.keys(), height=winners_dict.values(), align=\"center\");"
   ]
  },
  {
   "cell_type": "code",
   "execution_count": 99,
   "metadata": {},
   "outputs": [
    {
     "data": {
      "text/html": [
       "<div>\n",
       "<style scoped>\n",
       "    .dataframe tbody tr th:only-of-type {\n",
       "        vertical-align: middle;\n",
       "    }\n",
       "\n",
       "    .dataframe tbody tr th {\n",
       "        vertical-align: top;\n",
       "    }\n",
       "\n",
       "    .dataframe thead th {\n",
       "        text-align: right;\n",
       "    }\n",
       "</style>\n",
       "<table border=\"1\" class=\"dataframe\">\n",
       "  <thead>\n",
       "    <tr style=\"text-align: right;\">\n",
       "      <th></th>\n",
       "      <th>Drivers</th>\n",
       "      <th>Number of wins</th>\n",
       "    </tr>\n",
       "  </thead>\n",
       "  <tbody>\n",
       "    <tr>\n",
       "      <th>5</th>\n",
       "      <td>NaN</td>\n",
       "      <td>NaN</td>\n",
       "    </tr>\n",
       "    <tr>\n",
       "      <th>23</th>\n",
       "      <td>NaN</td>\n",
       "      <td>NaN</td>\n",
       "    </tr>\n",
       "    <tr>\n",
       "      <th>1</th>\n",
       "      <td>NaN</td>\n",
       "      <td>NaN</td>\n",
       "    </tr>\n",
       "    <tr>\n",
       "      <th>1</th>\n",
       "      <td>NaN</td>\n",
       "      <td>NaN</td>\n",
       "    </tr>\n",
       "    <tr>\n",
       "      <th>2</th>\n",
       "      <td>NaN</td>\n",
       "      <td>NaN</td>\n",
       "    </tr>\n",
       "    <tr>\n",
       "      <th>...</th>\n",
       "      <td>...</td>\n",
       "      <td>...</td>\n",
       "    </tr>\n",
       "    <tr>\n",
       "      <th>10</th>\n",
       "      <td>NaN</td>\n",
       "      <td>NaN</td>\n",
       "    </tr>\n",
       "    <tr>\n",
       "      <th>3</th>\n",
       "      <td>NaN</td>\n",
       "      <td>NaN</td>\n",
       "    </tr>\n",
       "    <tr>\n",
       "      <th>1</th>\n",
       "      <td>NaN</td>\n",
       "      <td>NaN</td>\n",
       "    </tr>\n",
       "    <tr>\n",
       "      <th>2</th>\n",
       "      <td>NaN</td>\n",
       "      <td>NaN</td>\n",
       "    </tr>\n",
       "    <tr>\n",
       "      <th>1</th>\n",
       "      <td>NaN</td>\n",
       "      <td>NaN</td>\n",
       "    </tr>\n",
       "  </tbody>\n",
       "</table>\n",
       "<p>110 rows × 2 columns</p>\n",
       "</div>"
      ],
      "text/plain": [
       "   Drivers Number of wins\n",
       "5      NaN            NaN\n",
       "23     NaN            NaN\n",
       "1      NaN            NaN\n",
       "1      NaN            NaN\n",
       "2      NaN            NaN\n",
       "..     ...            ...\n",
       "10     NaN            NaN\n",
       "3      NaN            NaN\n",
       "1      NaN            NaN\n",
       "2      NaN            NaN\n",
       "1      NaN            NaN\n",
       "\n",
       "[110 rows x 2 columns]"
      ]
     },
     "execution_count": 99,
     "metadata": {},
     "output_type": "execute_result"
    }
   ],
   "source": [
    "# Making a DataFrame to make things clearer\n",
    "driver_series = pd.Series(winners_dict.keys())\n",
    "wins_series = pd.Series(winners_dict.values())\n",
    "wincount_df = pd.DataFrame(winners_dict.values(), index=list(winners_dict.keys()), columns=[\"Number of wins\"])\n",
    "wincount_df"
   ]
  },
  {
   "cell_type": "code",
   "execution_count": 85,
   "metadata": {},
   "outputs": [
    {
     "data": {
      "text/html": [
       "<div>\n",
       "<style scoped>\n",
       "    .dataframe tbody tr th:only-of-type {\n",
       "        vertical-align: middle;\n",
       "    }\n",
       "\n",
       "    .dataframe tbody tr th {\n",
       "        vertical-align: top;\n",
       "    }\n",
       "\n",
       "    .dataframe thead th {\n",
       "        text-align: right;\n",
       "    }\n",
       "</style>\n",
       "<table border=\"1\" class=\"dataframe\">\n",
       "  <thead>\n",
       "    <tr style=\"text-align: right;\">\n",
       "      <th></th>\n",
       "      <th>Number of wins</th>\n",
       "    </tr>\n",
       "  </thead>\n",
       "  <tbody>\n",
       "    <tr>\n",
       "      <th>LewisHamilton</th>\n",
       "      <td>103</td>\n",
       "    </tr>\n",
       "    <tr>\n",
       "      <th>MichaelSchumacher</th>\n",
       "      <td>91</td>\n",
       "    </tr>\n",
       "    <tr>\n",
       "      <th>SebastianVettel</th>\n",
       "      <td>53</td>\n",
       "    </tr>\n",
       "    <tr>\n",
       "      <th>AlainProst</th>\n",
       "      <td>51</td>\n",
       "    </tr>\n",
       "    <tr>\n",
       "      <th>AyrtonSenna</th>\n",
       "      <td>41</td>\n",
       "    </tr>\n",
       "    <tr>\n",
       "      <th>FernandoAlonso</th>\n",
       "      <td>32</td>\n",
       "    </tr>\n",
       "    <tr>\n",
       "      <th>NigelMansell</th>\n",
       "      <td>31</td>\n",
       "    </tr>\n",
       "    <tr>\n",
       "      <th>JackieStewart</th>\n",
       "      <td>27</td>\n",
       "    </tr>\n",
       "    <tr>\n",
       "      <th>NikiLauda</th>\n",
       "      <td>25</td>\n",
       "    </tr>\n",
       "    <tr>\n",
       "      <th>JimClark</th>\n",
       "      <td>25</td>\n",
       "    </tr>\n",
       "  </tbody>\n",
       "</table>\n",
       "</div>"
      ],
      "text/plain": [
       "                   Number of wins\n",
       "LewisHamilton                 103\n",
       "MichaelSchumacher              91\n",
       "SebastianVettel                53\n",
       "AlainProst                     51\n",
       "AyrtonSenna                    41\n",
       "FernandoAlonso                 32\n",
       "NigelMansell                   31\n",
       "JackieStewart                  27\n",
       "NikiLauda                      25\n",
       "JimClark                       25"
      ]
     },
     "execution_count": 85,
     "metadata": {},
     "output_type": "execute_result"
    }
   ],
   "source": [
    "# Now let's see the top 10 winners.\n",
    "top_10 = wincount_df.sort_values(\"Number of wins\", ascending=False)[:10]\n",
    "top_10"
   ]
  },
  {
   "cell_type": "code",
   "execution_count": 96,
   "metadata": {},
   "outputs": [
    {
     "data": {
      "text/plain": [
       "<BarContainer object of 10 artists>"
      ]
     },
     "execution_count": 96,
     "metadata": {},
     "output_type": "execute_result"
    },
    {
     "data": {
      "image/png": "[encoded data removed]",
      "text/plain": [
       "<Figure size 432x288 with 1 Axes>"
      ]
     },
     "metadata": {
      "needs_background": "light"
     },
     "output_type": "display_data"
    }
   ],
   "source": [
    "# Making a graph of these guys\n",
    "plt.bar(height=top_10.keys(), x=top_10[\"Number of wins\"])"
   ]
  },
  {
   "cell_type": "code",
   "execution_count": null,
   "metadata": {},
   "outputs": [],
   "source": []
  }
 ],
 "metadata": {
  "interpreter": {
   "hash": "d661aa3986dc3aa4abf73a0972e360ad34ec732c7bdba1021bbf1cd681725a25"
  },
  "kernelspec": {
   "display_name": "Python 3.9.7 ('base')",
   "language": "python",
   "name": "python3"
  },
  "language_info": {
   "codemirror_mode": {
    "name": "ipython",
    "version": 3
   },
   "file_extension": ".py",
   "mimetype": "text/x-python",
   "name": "python",
   "nbconvert_exporter": "python",
   "pygments_lexer": "ipython3",
   "version": "3.9.10"
  },
  "orig_nbformat": 4
 },
 "nbformat": 4,
 "nbformat_minor": 2
}
